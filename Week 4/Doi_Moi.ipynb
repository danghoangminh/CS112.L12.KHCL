{
 "cells": [
  {
   "cell_type": "markdown",
   "metadata": {},
   "source": [
    "# Nhóm 2\n",
    "\n",
    "# ĐỔI MỚI\n",
    "\n",
    "Thành phố quyết định chặt hạ hết n cây xanh hiện có trong thành phố để trồng chỉ một loại cây mới. Nhiệm vụ được giao cho Công ty Cây xanh thành phố. Do hạn chế về thiết bị Công ty chỉ tổ chức được 2 đội đốn hạ cây. Đội I hạ được a cây mỗi ngày, nhưng cứ mối ngày thứ k thì phải nghỉ để bảo dưỡng kỹ thuật, tức là đội I sẽ nghỉ vào các ngày k, 2k, 3k, . . . Đội II hạ được b cây mỗi ngày, nhưng cứ mỗi ngày thứ m thì phải nghỉ để bảo dưỡng kỹ thuật, tức là đội II sẽ nghỉ vào các ngày m, 2m, 3m, . . . Ở ngày nghỉ, số cây chặt hạ của đội sẽ là 0. Cả hai đội bắt đầu công việc vào cùng một ngày và làm việc song song với nhau.\n",
    "\n",
    "\n",
    "Công việc trồng cây mới sẽ bắt đầu sau khi toàn bộ cây cũ đã bị đốn hạ.\n",
    "\n",
    "\n",
    "Hãy xác định sau bao nhiêu ngày thì có thể bắt đầu việc trồng mới cây.\n",
    "\n",
    "**Dữ liệu**: Vào từ thiết bị nhập chuẩn gồm một dòng chứa 5 số nguyên a, k, b, m và n (1 ≤ a, b ≤ 109, 2 ≤ k, m ≤ 1018, 1 ≤ n ≤ 1018).\n",
    "\n",
    "\n",
    "**Kết quả**: Đưa ra thiết bị xuất chuẩn một số nguyên – số ngày tính được.\n",
    "\n",
    "![title](Doi_Moi.jpg)\n",
    "\n",
    "| INPUT                                    | OUTPUT     |\n",
    "| :--------------------------------------- | :--------- |\n",
    "|2 4 3 3 25                                |\t7       |"
   ]
  },
  {
   "cell_type": "markdown",
   "metadata": {},
   "source": [
    "# 1. Abstraction\n",
    "- Tìm giá trị x trong mảng đã sắp xếp từ nhỏ đến lớn.\n",
    "\n",
    "# 2 Decomposition\n",
    "- Tính số cây đã chặt được từ ngày 1 tới ngày thứ x.\n",
    "- Tìm ngày thứ x trong một số lượng ngày nhất định, số lượng ngày đủ lớn để bao quát được các điều kiện input.\n",
    "\n",
    "# 3 Pattern recognization\n",
    "- Dùng tìm kiếm nhị phân để nâng cao tốc độ tìm kiếm.\n",
    "\n",
    "# 4. Algorithm designed\n",
    "## 4.1. Input and Output:\n",
    "- Input:\n",
    "    - Vào từ thiết bị nhập chuẩn gồm một dòng chứa 5 số nguyên a, k, b, m và n (1 ≤ a, b ≤ 109, 2 ≤ k, m ≤ 1018, 1 ≤ n ≤ 1018).\n",
    "- Output:\n",
    "    - Đưa ra thiết bị xuất chuẩn một số nguyên – số ngày tính được.\n",
    "\n",
    "## 4.2. Pseudo code:\n",
    "```\n",
    "    low = 1\n",
    "    high = 10^18\n",
    "    result = 0\n",
    "                    \n",
    "    while(low <= high):\n",
    "        mid = int((low + high) / 2)\n",
    "        if (cay_da_chat(mid) >= n):\n",
    "            result = mid\n",
    "            high = mid - 1    \n",
    "        else:\n",
    "            low = mid + 1\n",
    "            \n",
    "    Output:\n",
    "        result\n",
    "```"
   ]
  },
  {
   "cell_type": "code",
   "execution_count": 1,
   "metadata": {},
   "outputs": [],
   "source": [
    "# Trả về số lượng cây đã chặt sau x ngày\n",
    "# x: số ngày \n",
    "# a, k, b, m lần lượt là các giá trị từ input\n",
    "# Đơn giản là ta sẽ nhân ngày x với tổng số lượng cây của 2 đội a, b chặt được trong một ngày và trừ đi\n",
    "# ((số lượng cây đội a chặt trong 1 ngày nhân với số ngày đội a không chặt) cộng với\n",
    "# (số lượng cây đội b chặt trong 1 ngày nhân với số ngày đội b không chặt))\n",
    "\n",
    "def cay_da_chat(x):\n",
    "    return ((a + b) * x) - (a * (x // k)) - (b * (x // m))\n",
    "\n",
    "# Có 1 dòng lệnh tính toán nên độ phức tạp là O(1)"
   ]
  },
  {
   "cell_type": "code",
   "execution_count": 2,
   "metadata": {},
   "outputs": [],
   "source": [
    "# Giả định biên độ của số ngày là vô cùng lớn (1-> 10^18)\n",
    "# Tìm kiếm nhị phân số ngày chặt cây thỏa số cây trên trường biên độ trên\n",
    "# Thuật toán tìm kiếm nhị phân đã được biến đổi để phù hợp với giải thuật, nhưng cơ bản cách hoạt động vẫn là liên tục chia đôi\n",
    "# mảng đã được sắp xếp tăng dần\n",
    "\n",
    "# Do tính chất bài toán nên sẽ có ngày chặt dư nhưng vẫn là ngày đã hoàn thành xong việc chặt cây\n",
    "# Ví dụ: input là 2 4 3 3 25, nếu viết ra thì ta sẽ thấy ngày thứ 6 chỉ chặt được 22 cây, ngày thứ 7 chặt được 27 cây\n",
    "# tuy trên lý thuyết chặt dư nhưng không ai lại đi chặt dư cả, người ta chỉ chặt 25 cây thôi, nên kết quả là 7 ngày\n",
    "# Nên ngày thỏa mãn bài toán gồm có 2 điều kiện:\n",
    "# 1. Số cây đã chặt >= số cây cần chật, theo ví dụ trên thì các ngày từ ngày 7 trở đi là thỏa điều kiện 1\n",
    "# 2. Ngày đó phải là ngày chặt vừa xong, theo như ví dụ trên thì ngày 7 là ngày chặt vừa xong, nếu qua ngày 8 thì đã chặt dư\n",
    "\n",
    "def tim_ngay_thoa_man():\n",
    "    low = 1\n",
    "    high = int(1e18)\n",
    "    result = 0\n",
    "\n",
    "    while low <= high:\n",
    "        mid = (low + high) // 2\n",
    "        \n",
    "        # Đây là phần đã được biến đổi\n",
    "        # Nếu thỏa câu lệnh \"if cay_da_chat(mid) >= n\" ta sẽ gán result = mid và dịch trái mảng\n",
    "        # Lúc này result là ngày có số-cây-đã-chặt >= tổng-số-cây-cần-phải-chặt, thỏa điều kiện 1\n",
    "        # Tiếp theo ta dịch trái mảng (các ngày ở mảng con bên trái đều có số-cây-chặt-được < số-cây-chặt-được của ngày mid và\n",
    "        # các ngày ở mảng bên phải)\n",
    "        # Vì lý do trên, nếu tiếp tục thực hiện xong tìm kiếm nhị phân thì ta sẽ tìm được ngày nhỏ nhất có số-cây-chặt-được >=\n",
    "        # tổng-số-cây-cần-phải-chặt, thỏa điều kiện 2 \n",
    "        if cay_da_chat(mid) >= n:\n",
    "            result = mid\n",
    "            high = mid - 1\n",
    "        # Ta dịch trái vì không có ngày nào ở mảng bên phải và ngày mid có số-cây-chặt-được >= tổng-số-cây-cần-phải-chặt\n",
    "        # của ngày mid\n",
    "        else:\n",
    "            low = mid + 1\n",
    "    \n",
    "    return result\n",
    "\n",
    "# Độ phức tạp của thuật toán tìm kiếm nhị phân: O(log(n))"
   ]
  },
  {
   "cell_type": "code",
   "execution_count": 18,
   "metadata": {},
   "outputs": [],
   "source": [
    "# => Độ phức tạp của giải thuật này là:  O(log(n)) * O(1) = O(log(n))"
   ]
  },
  {
   "cell_type": "code",
   "execution_count": 19,
   "metadata": {},
   "outputs": [
    {
     "name": "stdout",
     "output_type": "stream",
     "text": [
      "2 4 3 3 25\n",
      "7\n"
     ]
    }
   ],
   "source": [
    "a, k, b, m, n = map(int, input().split())\n",
    "\n",
    "print(tim_ngay_thoa_man())"
   ]
  },
  {
   "cell_type": "code",
   "execution_count": null,
   "metadata": {},
   "outputs": [],
   "source": []
  }
 ],
 "metadata": {
  "kernelspec": {
   "display_name": "Python 3",
   "language": "python",
   "name": "python3"
  },
  "language_info": {
   "codemirror_mode": {
    "name": "ipython",
    "version": 3
   },
   "file_extension": ".py",
   "mimetype": "text/x-python",
   "name": "python",
   "nbconvert_exporter": "python",
   "pygments_lexer": "ipython3",
   "version": "3.7.6"
  }
 },
 "nbformat": 4,
 "nbformat_minor": 4
}
