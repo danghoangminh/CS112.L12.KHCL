{
 "cells": [
  {
   "cell_type": "markdown",
   "metadata": {
    "colab_type": "text",
    "id": "_pNkgIzbgZSX"
   },
   "source": [
    "# Nhóm 2\n",
    "# TẢO BIỂN\n",
    "---\n",
    "Tảo biển sinh sản rất nhanh khi có môi trường thuận lợi với chúng và có những loài còn tiết ra môi trường những chất độc hại.\n",
    "\n",
    "Một loại tảo nâu trong môi trường nước bị ô nhiễm nặng sinh sản theo quy luật sau:\n",
    "\n",
    "- Ngày đầu tiên (ngày $0$) có $n$ cá thể ở mức $1$.\n",
    "- Ở mỗi ngày tiếp theo, mỗi cá thể mức $i$ sinh ra $i$ cá thể mức $1$, các cá thể mới sinh sẽ sinh sôi, phát triển từ ngày hôm sau.\n",
    "- Bản thân các cá thể mức $i$ phát triển thành mức $i+1$ và chu kỳ phát triển trong ngày chấm dứt.\n",
    "\n",
    "Hãy xác định sau $k$ ngày trong nước biển có bao nhiêu cá thể.\n",
    "\n",
    "***Dữ liệu:*** Vào từ thiết bị nhập chuẩn gồm một dòng chứa 2 số nguyên $n$ và $k$ ($1 \\le n \\le 1000$, $1 \\le k \\le 10^{18}$).\n",
    "\n",
    "***Kết quả:*** Đưa ra thiết bị xuất chuẩn một số nguyên – số lượng cá thể tảo theo mô đun $10^9$+7.\n",
    "\n",
    "\n",
    "![title](TaoBien.jpg)"
   ]
  },
  {
   "cell_type": "markdown",
   "metadata": {},
   "source": [
    "|INPUT   | OUTPUT |\n",
    "|:-------|:-------|\n",
    "|  3   2 | 15     |"
   ]
  },
  {
   "cell_type": "markdown",
   "metadata": {
    "colab_type": "text",
    "id": "iymRqvjgklCI"
   },
   "source": [
    "# 1. Abstraction:\n",
    "- Find the product of $n$ and the $2k+1$ element in the Fibonacci Sequence.\n",
    "> $n * fib(2k+1)$\n",
    "\n",
    "# 2. Pattern recognization:\n",
    "- Dynamic Programming\n",
    "\n",
    "# 3. Algorithm designed:\n",
    "## 3.1. Input and Output:\n",
    "- Input:\n",
    "  - n (int): number of individuals ($1 \\le n \\le 1000$)\n",
    "  - k (int): number of days ($1 \\le k \\le 10^{18}$)\n",
    "- Output:\n",
    "  - total: total of individuals after $k$ days\n",
    "\n",
    "## 3.2. Variable:\n",
    "- fib (int): position of an element need to find in the Fibonacci Sequence.\n",
    "- f (int): the array contains the Fibonacci Sequece had calculated.\n",
    "\n",
    "## 3.3. Pseudo code:\n",
    "\n",
    "```\n",
    "  assign: fib = 2*k + 1, f = [0]*(fib + 1)\n",
    "\n",
    "  findFibonacci(n):\n",
    "    if n = 0:\n",
    "      return 1\n",
    "    if n = 1, 2:\n",
    "      f[n] = 1\n",
    "      return f[n]\n",
    "    if f[n]: (in case of position had calculated)\n",
    "      return f[n]\n",
    "    if n & 1: (value n&1 is 1 if n is odd, else 0)\n",
    "      assign: temp = (n + 1) // 2\n",
    "    else:\n",
    "      assign: temp = n // 2\n",
    "    if n & 1:\n",
    "      f[n] = findFibonacci(temp)*findFibonacci(temp) + findFibonacci(temp-1)*findFibonacci(temp-1)\n",
    "    else:\n",
    "      f[n] = (2*findFibonacci(temp-1) + findFibonacci(temp)) * findFibonacci(temp)\n",
    "    return f[n]\n",
    "\n",
    "```\n",
    "\n",
    "## 3.4. Dynamic Programming approach:\n",
    "- Time Complexity: O(Log N)\n",
    "\n"
   ]
  },
  {
   "cell_type": "code",
   "execution_count": null,
   "metadata": {
    "colab": {
     "base_uri": "https://localhost:8080/",
     "height": 50
    },
    "colab_type": "code",
    "id": "THUGm_cWxrzB",
    "outputId": "838ab570-500c-4526-dd8e-937a60a79abc"
   },
   "outputs": [
    {
     "name": "stdout",
     "output_type": "stream",
     "text": [
      "3 5\n",
      "267\n"
     ]
    }
   ],
   "source": [
    "n, k = map(int, input().split())\n",
    "fib = 2*k + 1\n",
    "f = [0] * (fib+1) \n",
    "\n",
    "def findFibonacci(n):\n",
    "    if (n == 0):\n",
    "        return 1\n",
    "    if (n == 1 or n == 2):\n",
    "        f[n] = 1\n",
    "        return (f[n])\n",
    "   \n",
    "    if (f[n]): \n",
    "        return f[n]\n",
    "  \n",
    "    if(n & 1):\n",
    "        k = (n + 1) // 2\n",
    "    else :  \n",
    "        k = n // 2\n",
    "\n",
    "    if(n & 1):\n",
    "        f[n] = (findFibonacci(k) * findFibonacci(k) + findFibonacci(k-1) * findFibonacci(k-1))\n",
    "    else:\n",
    "        f[n] = (2*findFibonacci(k-1) + findFibonacci(k))*findFibonacci(k)\n",
    "  \n",
    "    return f[n]\n",
    "\n",
    "total = n*findFibonacci(fib)%(10**9+7)\n",
    "print(total)"
   ]
  }
 ],
 "metadata": {
  "colab": {
   "authorship_tag": "ABX9TyNZPhHmQ5pRvH9srpFzFkqI",
   "include_colab_link": true,
   "name": "TaoBien.ipynb",
   "provenance": []
  },
  "kernelspec": {
   "display_name": "Python 3",
   "language": "python",
   "name": "python3"
  },
  "language_info": {
   "codemirror_mode": {
    "name": "ipython",
    "version": 3
   },
   "file_extension": ".py",
   "mimetype": "text/x-python",
   "name": "python",
   "nbconvert_exporter": "python",
   "pygments_lexer": "ipython3",
   "version": "3.7.7"
  }
 },
 "nbformat": 4,
 "nbformat_minor": 1
}
