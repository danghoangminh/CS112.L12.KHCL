{
 "cells": [
  {
   "cell_type": "markdown",
   "metadata": {},
   "source": [
    "# 1. Abstraction:\n",
    "    Cho 2 phân số đúng và tối giản a/b, c/d. Mỗi phép biến đổi là tăng a và b lên 1, sau đó giản ước phân số nhận được. Xác định sau bao nhiêu bước biến đổi thì từ phân số a/b trở thành c/d.\n",
    "\n",
    "# 2. Decomposition:\n",
    "- Kiểm tra xem phân số a/b có nhỏ hơn c/d hay không\n",
    "- Tìm ước chung nhỏ nhất\n",
    "\n",
    "# 3. Pattern recognization:\n",
    "    Tối giản phân số\n",
    "\n",
    "# 4. Algorithm designed:\n",
    "## 4.1. Input và Output:\n",
    "- Input: Vào từ thiết bị nhập chuẩn gồm 4 dòng, mỗi dòng chứa 1 số nguyên a, b, c, d\n",
    "    + 0 < a < b ≤ 10^5\n",
    "    + 0 < c < d ≤ 10^5\n",
    "    + a và b nguyên tố cùng nhau, c và d nguyên tố cùng nhau, a/b != c/d\n",
    "- Output: Đưa ra thiết bị xuất chuẩn số 0 nếu không có cách biến đổi hoặc một số nguyên – số lượng phép biến đổi.\n",
    "\n",
    "## 4.2. Nhận xét:\n",
    "    Kiểm tra nhỏ hơn: a/b < c/d <=> a*d < c*b\n",
    "    \n",
    "## 4.3. Mã giải:\n",
    "```                  \n",
    "    if (a*d < b*c):\n",
    "        int number_of_steps = 0\n",
    "        while (a*d < b*c):\n",
    "           int ucln = UCLN(a+1, b+1) # Tìm ước chung lớn nhất của (a+1) và (b+1)\n",
    "           a = (a+1) / ucln\n",
    "           b = (b+1) / ucln\n",
    "           number_of_steps += 1\n",
    "           if (a/b trở thành c/d):\n",
    "               Xuất ra number_of_steps và kết thúc chương trình\n",
    "    else:\n",
    "        Xuất ra 0 và kết thúc chương trình   \n",
    "```"
   ]
  },
  {
   "cell_type": "code",
   "execution_count": 1,
   "metadata": {},
   "outputs": [
    {
     "name": "stdout",
     "output_type": "stream",
     "text": [
      "1\n",
      "6\n",
      "2\n",
      "3\n",
      "5\n"
     ]
    }
   ],
   "source": [
    "import math\n",
    "\n",
    "a = int(input())\n",
    "b = int(input())\n",
    "c = int(input())\n",
    "d = int(input())\n",
    "\n",
    "if(a*d < c*b):\n",
    "    number_of_steps = 0\n",
    "    while (a*d < c*b):\n",
    "        ucln = math.gcd(a+1, b+1)  # tìm ước chung của (a+1) và (b+1)\n",
    "        a = (a+1) // ucln              \n",
    "        b = (b+1) // ucln\n",
    "        # Do đều chia cho UCLN nên chắc chắn sẽ ra kết quả là số nguyên, nhưng phép chia '/' của Python sẽ cho ra số\n",
    "        # thập phân, nên phải dùng phép chia '//' để lấy kết quả là số nguyên và cũng vì hàm math.gcd() chỉ nhận tham số\n",
    "        # là số nguyên\n",
    "        number_of_steps += 1\n",
    "        if (a == c and b == d):\n",
    "            print(number_of_steps)\n",
    "            quit()\n",
    "else:\n",
    "    print(0)"
   ]
  }
 ],
 "metadata": {
  "kernelspec": {
   "display_name": "Python 3",
   "language": "python",
   "name": "python3"
  },
  "language_info": {
   "codemirror_mode": {
    "name": "ipython",
    "version": 3
   },
   "file_extension": ".py",
   "mimetype": "text/x-python",
   "name": "python",
   "nbconvert_exporter": "python",
   "pygments_lexer": "ipython3",
   "version": "3.7.6"
  }
 },
 "nbformat": 4,
 "nbformat_minor": 4
}
