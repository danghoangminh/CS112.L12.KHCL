{
 "cells": [
  {
   "cell_type": "markdown",
   "metadata": {},
   "source": [
    "# Nhóm 2\n",
    "# Khóa số\n",
    "Để tăng độ an toàn chống hiện tượng cướp ngân hàng ngày càng phổ biến người ta dùng khóa số với mã mở khóa đơn giản nhưng rất hiệu quả. Trên cửa ra vào hiển thị một xâu khá dài các ký tự số. Các chữ số có thể di chuyển đổi chổ cho nhau hoặc bị xóa. Muốn mở khóa người ta phải di chuyển các chữ số và trong trường hợp cần thiết – xóa vài chữ số để nhận được xâu lớn nhất thỏa mãn điều kiện đã cài đặt. Điều kiện này được thay đổi thường xuyên. Hôm nay điều kiện đó là “Số nhận được phải chia hết cho 3”. Số nhận được có thể bắt đầu bằng các chữ số 0. Xâu “000” sẽ lớn hơn xâu “00”.\n",
    "\n",
    "\n",
    "Hãy xác định khóa mở cửa.\n",
    "\n",
    "**Dữ liệu**: Vào từ thiết bị nhập chuẩn gồm một xâu ký tự số có độ dài lớn hơn 2 và không vượt quá 105.\n",
    "\n",
    "**Kết quả**: Đưa ra thiết bị xuất chuẩn xâu khóa mở cửa.\n",
    "\n",
    "![title](Khoa_So.png)\n",
    "\n",
    "| INPUT                                    | OUTPUT     |\n",
    "| :--------------------------------------- | :--------- |\n",
    "|105         |\t510       |"
   ]
  },
  {
   "cell_type": "markdown",
   "metadata": {},
   "source": [
    "# 1. Abstraction\n",
    "- Đổi chỗ, xóa một (hoặc nhiều) phần tử của dãy số để dãy lớn nhất và chia hết cho 3\n",
    "\n",
    "# 2 Decomposition\n",
    "- Tính tổng các phần tử của dãy\n",
    "- Lấy phần dư khi chia tổng đó cho 3\n",
    "- Xóa một (hoặc nhiều) phần tử để dãy chia hết cho 3\n",
    "- Sắp xếp dãy giảm dần để lấy được dãy có giá trị lớn nhất\n",
    "\n",
    "# 4. Algorithm designed\n",
    "\n",
    "## 4.1. Các yêu cầu:\n",
    "- Để có số lớn nhất thì phải sắp xếp giảm dần và xóa ít số nhất có thể.\n",
    "- Tổng các phần tử của dãy số chia hết cho 3 thì dãy số chia hết cho 3\n",
    "- Lấy tổng trên chia cho 3 thì chỉ có 3 trường hợp:\n",
    " + Phần dư = 0\n",
    " + Phần dư = 1\n",
    " + Phần dư = 2\n",
    "\n",
    "## 4.2. Input và Output:\n",
    "- Input: Vào từ thiết bị nhập chuẩn gồm một xâu ký tự số có độ dài lớn hơn 2 và không vượt quá 10^5.\n",
    "- Output: Đưa ra thiết bị xuất chuẩn xâu khóa mở cửa.\n",
    "\n",
    "## 4.3. Mã giả:\n",
    "```\n",
    "    count = [] # Count có 10 giá trị và ứng với mỗi phần tử thứ i thì lưu số lượng của giá trị i trong dãy số\n",
    "               # VD dãy 12377766204444999 sẽ cho ra biến count = [1, 1, 2, 1, 4, 0, 2, 3, 0, 3]\n",
    "    sum = tổng các phần tử của dãy số\n",
    "    mod_1 = [] # Lưu lần lượt các số chia cho 3 mà dư 1, nên mod_2 chỉ lưu các giá trị {1, 4, 7}, các phần tử của mod_1             tăng dần.\n",
    "    mod_2 = [] # Lưu lần lượt các số chia cho 3 mà dư 2, nên mod_2 chỉ lưu các giá trị {2, 5, 8}, các phần tử của mod_2             tăng dần\n",
    "        VD với dãy trên thì:\n",
    "            mod_1 = [1, 4, 4, 4, 4, 7, 7, 7]\n",
    "            mod_2 = [2, 2, 6, 6]\n",
    "            \n",
    "            \n",
    "    if(sum % 3 == 1):\n",
    "        if mod_1 không rỗng: # Tức là có tồn tại phần tử chia cho 3 mà dư 1\n",
    "            Xóa 1 phần tử trong biến count, mà giá trị của phần tử đó bằng phần tử đầu tiên của biến mod_1\n",
    "        else:\n",
    "            Xóa 2 phần tử trong biến count, mà giá trị của 2 phần tử đó lần lượt là 2 phần tử đầu tiên của biến mod_2\n",
    "             \n",
    "    elif(sum % 3 == 2):\n",
    "        if mod_2 không rỗng: # Tức là có tồn tại phần tử chia cho 3 mà dư 2\n",
    "            Xóa 1 phần tử trong biến count, mà giá trị của phần tử đó bằng phần tử đầu tiên của biến mod_2\n",
    "        else:\n",
    "            Xóa 2 phần tử trong biến count, mà giá trị của 2 phần tử đó lần lượt là 2 phần tử đầu tiên của biến mod_1\n",
    "            \n",
    "    Sắp xếp dãy giảm dần\n",
    "   \n",
    "    Xuất kết quả\n",
    "```"
   ]
  },
  {
   "cell_type": "code",
   "execution_count": 8,
   "metadata": {},
   "outputs": [
    {
     "name": "stdout",
     "output_type": "stream",
     "text": [
      "105\n",
      "510\n"
     ]
    }
   ],
   "source": [
    "# Gọi n là chiều dài xâu ký tự\n",
    "\n",
    "s = input().strip()\n",
    "\n",
    "# Time complexity: O(n)\n",
    "count = [0]*10\n",
    "for i in s:\n",
    "    count[int(i)]+=1\n",
    "    \n",
    "# Time complexity: O(10)\n",
    "sum = 0\n",
    "for i in range(10):\n",
    "    sum += i*count[i]\n",
    "    \n",
    "# # Time complexity: O(10)\n",
    "mod_2 = []\n",
    "mod_1 = []\n",
    "for i in range(1,9):\n",
    "    if i % 3 == 1:\n",
    "        mod_1+=[i]*count[i]\n",
    "    if i % 3 == 2:\n",
    "        mod_2+=[i]*count[i]\n",
    "        \n",
    "if(sum % 3 == 1):\n",
    "    if len(mod_1) > 0:\n",
    "        count[mod_1[0]] -= 1\n",
    "    else: \n",
    "        count[mod_2[0]] -= 1\n",
    "        count[mod_2[1]] -= 1\n",
    "\n",
    "elif(sum % 3 == 2):\n",
    "    if len(mod_2) > 0:\n",
    "        count[mod_2[0]] -= 1\n",
    "    else:\n",
    "        count[mod_1[0]] -= 1\n",
    "        count[mod_1[1]] -= 1\n",
    "        \n",
    "\n",
    "s = ''\n",
    "a = list(range(10))\n",
    "# Time complexity: O(n)\n",
    "a.reverse()\n",
    "\n",
    "# Time complexity: O(n)\n",
    "for x in a:\n",
    "    s+=str(x)*count[x]\n",
    "    \n",
    "print(s)"
   ]
  },
  {
   "cell_type": "code",
   "execution_count": 9,
   "metadata": {},
   "outputs": [],
   "source": [
    "# => # Time complexity: O(n) + O(10) + O(10) + O(n) + O(n) = O(n)"
   ]
  },
  {
   "cell_type": "code",
   "execution_count": null,
   "metadata": {},
   "outputs": [],
   "source": []
  }
 ],
 "metadata": {
  "kernelspec": {
   "display_name": "Python 3",
   "language": "python",
   "name": "python3"
  },
  "language_info": {
   "codemirror_mode": {
    "name": "ipython",
    "version": 3
   },
   "file_extension": ".py",
   "mimetype": "text/x-python",
   "name": "python",
   "nbconvert_exporter": "python",
   "pygments_lexer": "ipython3",
   "version": "3.7.7"
  }
 },
 "nbformat": 4,
 "nbformat_minor": 4
}
