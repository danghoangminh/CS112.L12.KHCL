{
 "cells": [
  {
   "cell_type": "markdown",
   "metadata": {},
   "source": [
    "# Nhóm 2\n",
    "\n",
    "# ĐÈN LED\n",
    "\n",
    "Alice vừa hoàn thành một hợp đồng lắp bảng hiển thị số bằng đèn LED. Mỗi chữ số được hiển thị trong một khung chữ nhật với 7 ống đèn LED. Bằng cách bật các ống đèn LED thích hợp ta có thể hiển thị chữ số bất kỳ. Số đèn sáng càng nhiều thì việc hiển thị chữ số đó càng tốn năng lượng. Ví dụ, hiển thị chữ số 9 sẽ tốn năng lượng hơn hiển thị chữ số 7."
   ]
  },
  {
   "cell_type": "markdown",
   "metadata": {},
   "source": [
    "![title](led.png)"
   ]
  },
  {
   "cell_type": "markdown",
   "metadata": {},
   "source": [
    " Sau khi bàn giao sản phẩm trong tay Alice còn thừa lại một số khá nhiều các khung hiển thị số và một cục pin nguồn. Dung lượng pin cho phép bật sáng n ống đèn LED. Alice muốn dùng pin bật đúng n ống đèn để hiển thị một số và số hiển thị được phải có tổng chữ số là lớn nhất.\n",
    "\n",
    "Hãy xác định tổng lớn nhất của các chữ số của số có thể bật sáng.\n",
    "\n",
    "Dữ liệu: Vào từ thiết bị nhập chuẩn gồm một dòng chứa số nguyên n (2 ≤ n ≤ 106).\n",
    "\n",
    "Kết quả: Đưa ra thiết bị xuất chuẩn một số nguyên – tổng lớn nhất đạt được.\n",
    "\n",
    "Ví dụ:"
   ]
  },
  {
   "cell_type": "markdown",
   "metadata": {},
   "source": [
    "| INPUT | OUTPUT |\n",
    "| :---- | :----- |\n",
    "| 7 | 11 |"
   ]
  },
  {
   "cell_type": "markdown",
   "metadata": {},
   "source": [
    "# 1. Abstraction:\n",
    "    Tìm dãy số mà tổng các chữ số của nó là lớn nhất.\n",
    "\n",
    "# 2. Decomposition:\n",
    "- Xác định chữ số nên hiển thị nhiều nhất để có tổng lớn nhất\n",
    "- Xử lý khi không có đủ ống đèn LED để hiển thị một chữ số\n",
    "\n",
    "# 3. Algorithm designed:\n",
    "## 3.1. Input và Output:\n",
    "- Input: Vào từ thiết bị nhập chuẩn gồm một dòng chứa số nguyên n (2 ≤ n ≤ 106).\n",
    "- Output: Đưa ra thiết bị xuất chuẩn một số nguyên – tổng lớn nhất đạt được.\n",
    "\n",
    "## 3.2. Phân tích:\n",
    "```\n",
    "Số    : [0, 1, 2, 3, 4, 5, 6, 7, 8, 9]\n",
    "Số ống: [6, 2, 5, 5, 4, 5, 6, 3, 7, 6]\n",
    "\n",
    "Khi muốn tổng giữa các chữ số thành phần trong một số (VD: 7777 có tổng 7+7+7+7=28) là LỚN NHẤT thì ta luôn muốn các số thành phần là số 9 để tổng được lớn nhất (VD: 9999 có tổng 9+9+9+9=36 > 28)\n",
    "=> Ta sẽ luôn hiển thị một dãy các số 9 để được tổng lớn nhất\n",
    "Câu kết luận trên là SAI và sau đây chúng ta sẽ đi phân tích vì sao nó sai.\n",
    "\n",
    "Trong phạm vi bài toán này, muốn tổng các số thành phần LỚN NHẤT thì không chỉ phụ thuộc vào giá trị của từng số thành phần (VD: 7777 và 9999), mà còn phải phụ thuộc vào số ống đèn LED cần để hiển thị các số thành phần đó (VD: 7777 cần 12 ống LED, 9999 cần tới 24 ống LED).\n",
    "Nếu dùng 24 ống để hiển thị 7777.7777 thì ta đã có tổng 7*8=56\n",
    "Hoặc nếu lấy 12 ống  để hiển thị 99 thì tổng chỉ được có 9+9=18\n",
    "=> Dù là cách nào thì dãy những số 9 cũng cho tổng nhỏ hơn dãy những số 7\n",
    "\n",
    "Vậy ta phải tìm ra chữ số thành phần có thể dung hòa được 2 yếu tố sau:\n",
    "    + Giá trị lớn\n",
    "    + Cần ít ống đèn LED\n",
    "Và câu trả lời là số 7 (cần 3 ống LED)\n",
    "    \n",
    "Bây giờ chúng ta sẽ thử với lần lượt các số:\n",
    "- Số 9 là số lớn nhất nhưng lại cần tới 6 ống LED, gấp đôi số ống LED của số 7 nên nếu thay số 9 bằng 77 thì sẽ được tổng lớn hơn (7+7=14 > 9)\n",
    "    => Không hiển thị số 9, hiển thị số 77\n",
    "- Số 8 cần 7 ống LED, vừa có giá trị nhỏ hơn số 9 mà lại vừa cần nhiều ống LED hơn số 9, nên đương nhiên sẽ không hiển thị số 8\n",
    "    => Thay vì hiển thị số 8 thì ta phải hiển thị số 47 hoặc là 74 (thứ tự không quan trọng vì ta chỉ cần tổng các số thành phần) để có tổng lớn nhất (4+7=11 > 8)\n",
    "- Số 7 cần 3 ống LED, vừa có giá trị lớn chỉ sau số 8 và số 9, vừa chỉ cần số ống LED ít chỉ sau số 1\n",
    "- Số 6 cũng cần tới 6 ống LED nhưng giá trị lại nhỏ hơn số 9\n",
    "    => Không hiển thị số 6, hiển thị số 77\n",
    "- Số 5 cần 5 ống LED, nhưng nếu ta hiển thị số 17 hoặc 71 thì sẽ có tổng lớn hơn (1+7=8 > 5)\n",
    "    => Không hiển thị số 5, hiển thị số 17 hoặc 71\n",
    "- Số 4 cần 4 ống LED, với 4 ống LED thì hiển thị số 4 sẽ cho tổng lớn nhất\n",
    "- Số 3 cần 5 ống LED, bằng với số ống LED của số 5 nhưng giá trị lại nhỏ hơn số 5\n",
    "    => Không hiển thị số 3, hiển thị số 17 hoặc 71\n",
    "- Số 2 cũng cần 5 ống LED\n",
    "    => Không hiển thị số 2, hiển thị số 17 hoặc 71\n",
    "- Số 1 cần 2 ống LED, với 2 ống LED thì hiển thị số 1 sẽ cho tổng lớn nhất\n",
    "- Số 0 có giá trị nhỏ nhất nhưng lại cần tới 6 ống LED, bằng số ống LED của số 9\n",
    "    => Không hiển thị số 0, hiển thị số 77\n",
    "\n",
    "Vậy số 7 là số nên được hiển thị nhiều nhất để có tổng lớn nhất\n",
    "\n",
    "Do đó, ý tưởng cơ bản là: chúng ta sẽ lấy phần nguyên của n/3 để biết được có thể hiển thị bao nhiêu số 7 và xử lí số ống LED bị dư.\n",
    "\n",
    "Một số chia cho 3 thì chỉ có ba trường hợp:\n",
    "+ Dư 0\n",
    "+ Dư 1\n",
    "+ Dư 2\n",
    "\n",
    "- Dư 0 thì không có gì phải lo, chỉ cần lấy (n/3) * 7 là ra được tổng\n",
    "- Dư 1, một ống LED thì không thể tạo thành số nào được cả, nên cần phải lấy ra một vài ống LED từ phần nguyên n/3 để hiển thị được một chữ số. Số ống LED lấy ra vừa cần phải ít nhất có thể để tổng không bị giảm quá nhiều, vừa cần đủ để hiển thị một số lớn nhất có thể. Số ống LED lấy ra phải chia hết cho 3 vì ta cần 3 ống LED để tạo thành số 7, nếu số ống LED lấy ra không chia hết cho 3 thì kết quả là phần nguyên (n/3) sẽ bị thay đổi, không còn nguyên nữa và chúng ta cũng lại phải xử lý phần dư đó. Từ đó sẽ hình thành một vòng lặp mà trong đó chúng ta liên tục bị mất những số 7. Như đã nói ở trên, số 7 là số tốt nhất với bài toán này, lấy ra nhiều lần số 7 thì chỉ làm tổng bị giảm nhiều, nên chúng ta sẽ chỉ lấy ra 3 ống LED (tương đương với số 7), 3 ống này và 1 ống dư thì ta có được 4 ống, với 4 ống thì số tốt nhất có thể chọn là số 4.\n",
    "- Dư 2, như đã nói ở chỗ dư 1, chúng ta phải hạn chế lấy ra ít nhất ống có thể, vừa may là 2 ống đã đủ để tạo thành số 1, nên chúng ta sẽ không lấy ra ống nào cả.\n",
    "```\n",
    "    \n",
    "## 3.3. Mã giải:\n",
    "Phép chia lấy phần nguyên: //\n",
    "```                  \n",
    "if n/3 dư 0:\n",
    "    tổng = (n/3) * 7\n",
    "else if n/3 dư 1:\n",
    "    tổng = (n//3 - 1)*7 + 4\n",
    "else if n/3 dư 2:\n",
    "    tổng = (n//3)*7 + 1\n",
    "\n",
    "Xuất ra tổng và kết thúc chương trình   \n",
    "```"
   ]
  },
  {
   "cell_type": "code",
   "execution_count": 12,
   "metadata": {},
   "outputs": [
    {
     "name": "stdout",
     "output_type": "stream",
     "text": [
      "7\n",
      "11\n"
     ]
    }
   ],
   "source": [
    "n = int(input())\n",
    "\n",
    "max_num = n // 3\n",
    "\n",
    "remainder = n % 3\n",
    "\n",
    "if(remainder == 0):\n",
    "    print(max_num * 7)\n",
    "elif(remainder == 1):\n",
    "    print((max_num - 1) * 7 + 4)\n",
    "elif(remainder == 2):\n",
    "    print(max_num * 7 + 1)"
   ]
  },
  {
   "cell_type": "code",
   "execution_count": null,
   "metadata": {},
   "outputs": [],
   "source": []
  }
 ],
 "metadata": {
  "kernelspec": {
   "display_name": "Python 3",
   "language": "python",
   "name": "python3"
  },
  "language_info": {
   "codemirror_mode": {
    "name": "ipython",
    "version": 3
   },
   "file_extension": ".py",
   "mimetype": "text/x-python",
   "name": "python",
   "nbconvert_exporter": "python",
   "pygments_lexer": "ipython3",
   "version": "3.7.6"
  }
 },
 "nbformat": 4,
 "nbformat_minor": 4
}
