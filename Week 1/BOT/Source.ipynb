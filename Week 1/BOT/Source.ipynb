{
 "metadata": {
  "language_info": {
   "codemirror_mode": {
    "name": "ipython",
    "version": 3
   },
   "file_extension": ".py",
   "mimetype": "text/x-python",
   "name": "python",
   "nbconvert_exporter": "python",
   "pygments_lexer": "ipython3",
   "version": "3.8.3-final"
  },
  "orig_nbformat": 2,
  "kernelspec": {
   "name": "python_defaultSpec_1599917242523",
   "display_name": "Python 3.8.3 64-bit ('base': conda)"
  }
 },
 "nbformat": 4,
 "nbformat_minor": 2,
 "cells": [
  {
   "source": [
    "# Abstraction\n",
    "- Largest sum sub-array in an n elements array\n",
    "# Pattern recognization\n",
    "- Dynamic programming\n",
    "# Algorithm designed\n",
    "##  Initialize:\n",
    "```\n",
    "    max_sub_sum = -1\n",
    "    max_end = 0\n",
    "```\n",
    "##  Loop until end of array:\n",
    "```\n",
    "    max_end = max_end + a[i]\n",
    "\n",
    "    if(max_sub_sum < max_end)\n",
    "        max_sub_sum = max_end\n",
    "    if(max_end < 0)\n",
    "        max_end = 0\n",
    "```\n",
    "##  Result:\n",
    "```\n",
    "    return max_sub_sum\n",
    "```"
   ],
   "cell_type": "markdown",
   "metadata": {}
  },
  {
   "cell_type": "code",
   "execution_count": 1,
   "metadata": {
    "tags": []
   },
   "outputs": [
    {
     "output_type": "stream",
     "name": "stdout",
     "text": "5\n15\n12\n"
    }
   ],
   "source": [
    "def maxSubArray(a, size):\n",
    "    max_sub_sum = -1\n",
    "    max_end = 0\n",
    "    start = 0\n",
    "    end = 0\n",
    "    s = 0\n",
    "\n",
    "    for i in range(0, size):\n",
    "        a[i] = int(a[i])\n",
    "        max_end += a[i]\n",
    "\n",
    "        if max_sub_sum < max_end:\n",
    "            max_sub_sum = max_end\n",
    "            start = s\n",
    "            end = i\n",
    "\n",
    "        if max_end < 0:\n",
    "            max_end = 0\n",
    "            s = i + 1\n",
    "  \n",
    "    print (start + 1)\n",
    "    print (end + 1)\n",
    "    print (max_sub_sum)\n",
    "\n",
    "def test():\n",
    "    n = int(input())\n",
    "    a = []\n",
    "    a = input().split(\" \")\n",
    "    maxSubArray(a,len(a))\n",
    "\n",
    "test()"
   ]
  },
  {
   "cell_type": "code",
   "execution_count": null,
   "metadata": {},
   "outputs": [],
   "source": []
  }
 ]
}