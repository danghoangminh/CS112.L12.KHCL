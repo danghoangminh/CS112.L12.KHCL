{
  "nbformat": 4,
  "nbformat_minor": 0,
  "metadata": {
    "kernelspec": {
      "display_name": "Python 3",
      "language": "python",
      "name": "python3"
    },
    "language_info": {
      "codemirror_mode": {
        "name": "ipython",
        "version": 3
      },
      "file_extension": ".py",
      "mimetype": "text/x-python",
      "name": "python",
      "nbconvert_exporter": "python",
      "pygments_lexer": "ipython3",
      "version": "3.8.3"
    },
    "colab": {
      "name": "Source.ipynb",
      "provenance": []
    }
  },
  "cells": [
    {
      "cell_type": "markdown",
      "metadata": {
        "id": "aWIN_PJE67by",
        "colab_type": "text"
      },
      "source": [
        "# Abstraction\n",
        "- Largest sum sub-array in an n elements array\n",
        "\n",
        "# Pattern recognization\n",
        "- Dynamic programming\n",
        "\n",
        "# Algorithm designed\n",
        "## Initialize:\n",
        "```\n",
        "    max_sub_sum = -1\n",
        "    max_end = 0\n",
        "```\n",
        "## Loop until end of array:\n",
        "```\n",
        "    max_end = max_end + a[i]\n",
        "\n",
        "    if(max_sub_sum < max_end)\n",
        "        max_sub_sum = max_end\n",
        "    if(max_end < 0)\n",
        "        max_end = 0\n",
        "```\n",
        "## Result:\n",
        "```\n",
        "    return max_sub_sum\n",
        "```"
      ]
    },
    {
      "cell_type": "code",
      "metadata": {
        "tags": [],
        "id": "-4yRwDl567bz",
        "colab_type": "code",
        "colab": {
          "base_uri": "https://localhost:8080/",
          "height": 101
        },
        "outputId": "bed7cb5a-3cde-43fc-96ef-f90539c80d43"
      },
      "source": [
        "def maxSubArray(a, size):\n",
        "    max_sub_sum = -1\n",
        "    max_end = 0\n",
        "    start = 0\n",
        "    end = 0\n",
        "    s = 0\n",
        "\n",
        "    for i in range(0, size):\n",
        "        a[i] = int(a[i])\n",
        "        max_end += a[i]\n",
        "\n",
        "        if max_sub_sum < max_end:\n",
        "            max_sub_sum = max_end\n",
        "            start = s\n",
        "            end = i\n",
        "\n",
        "        if max_end < 0:\n",
        "            max_end = 0\n",
        "            s = i + 1\n",
        "  \n",
        "    print (start + 1)\n",
        "    print (end + 1)\n",
        "    print (max_sub_sum)\n",
        "\n",
        "def test():\n",
        "    n = int(input())\n",
        "    a = []\n",
        "    a = input().split(\" \")\n",
        "    maxSubArray(a,len(a))\n",
        "\n",
        "test()"
      ],
      "execution_count": 1,
      "outputs": [
        {
          "output_type": "stream",
          "text": [
            "16\n",
            "2 -4 5 -8 4 -1 -1 1 1 1 -2 2 4 -6 9 -4\n",
            "5\n",
            "15\n",
            "12\n"
          ],
          "name": "stdout"
        }
      ]
    },
    {
      "cell_type": "code",
      "metadata": {
        "id": "o72xj6VG67b2",
        "colab_type": "code",
        "colab": {}
      },
      "source": [
        ""
      ],
      "execution_count": null,
      "outputs": []
    }
  ]
}