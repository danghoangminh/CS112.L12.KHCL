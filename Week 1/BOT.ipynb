{
 "cells": [
  {
   "cell_type": "markdown",
   "metadata": {},
   "source": [
    "# Nhóm 2\n",
    "# BOT\n",
    "\n",
    "BOT (Built-Operation-Transfer, có nghĩa: Xây dựng-Vận hành-Chuyển giao) là hình thức Chính phủ kêu gọi các công ty bỏ vốn xây dựng trước (Built) thông qua đấu thầu, sau đó khai thác vận hành một thời gian (Operation) và sau cùng là chuyển giao (Transfer) lại cho nhà nước sở tại.\n",
    "\n",
    "Đường cao tốc xuyên quốc gia được xây dựng theo hình thức BOT. Công ty Đa quốc gia Modern Highway trúng thầu, chia toàn bộ con đường thành n đoạn. Theo tính toán của Công ty sau khi chuyển giao con đường cho chính phủ sở tại quản lý thì lãi thu được ở đoạn đường thứ i là ai, ai có thể dương, âm hoặc bằng 0, tức là với từng đoạn con có thể lãi, lỗ hoặc hòa vốn. Từng nhóm các đoạn đường liên tiếp nhau (gọi tắt là khoảng) được chia cho các công ty con thực hiện. Công ty con ASEAM Highway hiện đang có trụ sở ở nước sở tại được quyền chọn trước khoảng tùy ý (có thể là cả con đường).\n",
    "\n",
    "Dĩ nhiên Ban Giám đốc ASEAM Highway muốn chọn khoảng bắt đầu từ đoạn p đến hết đoạn q mang lại lợi nhuận cao nhất hoặc lỗ ít nhất nếu không có khoảng nào cho lãi.\n",
    "\n",
    "Hãy chỉ ra khoảng cần chọn và lãi thu được. Nếu có nhiều cách chọn thì chỉ ra cách chọn có p nhỏ nhất.\n",
    "\n",
    "**Dữ liệu**: Vào từ thiết bị nhập chuẩn:\n",
    "\n",
    "Dòng đầu tiên chứa số nguyên n (1 ≤ n ≤ 106),\n",
    "\n",
    "Dòng thứ 2 chứa n số nguyên a1, a2, . . ., an (0 ≤ |ai| ≤ 109, i = 1 ÷ n).\n",
    "\n",
    "**Kết quả**: Đưa ra thiết bị xuất chuẩn trên một dòng 2 số nguyên p, q và lãi thu được."
   ]
  },
  {
   "cell_type": "markdown",
   "metadata": {},
   "source": [
    "![title](BOT.jpg)"
   ]
  },
  {
   "cell_type": "markdown",
   "metadata": {},
   "source": [
    "| INPUT                                    | OUTPUT     |\n",
    "| :--------------------------------------- | :--------- |\n",
    "|16                                        |\t5 15 12 |\n",
    "|2 -4 5 -8 4 -1 -1 1 1 1 -2 2 4 -6 9 -4    |            |"
   ]
  },
  {
   "cell_type": "markdown",
   "metadata": {
    "colab_type": "text",
    "id": "aWIN_PJE67by"
   },
   "source": [
    "\n",
    "# 1. Abstraction\n",
    "- Find the largest sum continuous sub-array in an n elements array\n",
    "\n",
    "# 2. Pattern recognization\n",
    "- Dynamic Programming\n",
    "\n",
    "# 3. Algorithm designed\n",
    "## 3.1. Input and Output:\n",
    "- Input:\n",
    "    - n (int): number of elements in array (0 < n < 10^6)\n",
    "    - arr (list): array contains n elements (from arr[0] to arr[n-1])\n",
    "- Output:\n",
    "    - start (int): location of first elements in sub-array\n",
    "    - end (int): location of last elements in sub-array\n",
    "    - max_sub_arr (int): sum of sub-array\n",
    "\n",
    "## 3.2. Variable:\n",
    "- max_ending_here (the sum of continuous sub-array was checked)\n",
    "- max_sub_arr (the largest sum continuous sub-array)\n",
    "- temp\n",
    "\n",
    "## 3.3. Pseudo code:\n",
    "```\n",
    "    Initialize:\n",
    "        max_ending_here = arr[0] (set value equals the first elements of the array)\n",
    "        max_sub_arr = float('-inf') (minus infinity)\n",
    "        start = end = temp = 0\n",
    "    Loop:\n",
    "        for i = 1 -> n:\n",
    "            max_ending_here += arr[i]\n",
    "            if max_ending_here > max_sub_arr:\n",
    "                set: max_sub_arr = max_ending_here\n",
    "                     end = i\n",
    "                     start = temp\n",
    "            if max_ending_here is smaller than 0:\n",
    "                set: max_ending_here = 0\n",
    "                     temp = i + 1 (drop the array was checking now, continuous checking next sub-array)\n",
    "    Output:\n",
    "        start, end, max_sub_arr\n",
    "```\n",
    "\n",
    "## 3.4. Dynamic Programming approach:\n",
    "- Using Kadane Algorithm\n",
    "- Time complexity: O(N), looping one time over an array.\n",
    "- Space complexity: O(N), array of length N to store values."
   ]
  },
  {
   "cell_type": "code",
   "execution_count": 1,
   "metadata": {
    "colab": {
     "base_uri": "https://localhost:8080/",
     "height": 101
    },
    "colab_type": "code",
    "id": "-4yRwDl567bz",
    "outputId": "bed7cb5a-3cde-43fc-96ef-f90539c80d43",
    "tags": []
   },
   "outputs": [
    {
     "name": "stdin",
     "output_type": "stream",
     "text": [
      " 16\n",
      " 2 -4 5 -8 4 -1 -1 1 1 1 -2 2 4 -6 9 -4\n"
     ]
    },
    {
     "name": "stdout",
     "output_type": "stream",
     "text": [
      "5 15 12\n"
     ]
    }
   ],
   "source": [
    "def maxSubArray(arr, size):\n",
    "    max_ending_here = arr[0]\n",
    "    max_sub_arr = float('-inf')\n",
    "    start = 0\n",
    "    end = 0\n",
    "    temp = 0\n",
    "\n",
    "    for i in range(1,size):\n",
    "        max_ending_here += arr[i]\n",
    "        \n",
    "        if max_ending_here > max_sub_arr:\n",
    "            max_sub_arr = max_ending_here\n",
    "            end = i\n",
    "            start = temp\n",
    "        \n",
    "        elif max_ending_here < 0:\n",
    "            max_ending_here = 0\n",
    "            temp = i + 1\n",
    "    \n",
    "    print(start + 1, end + 1, max_sub_arr)\n",
    "\n",
    "n = int(input())\n",
    "arr = list(map(int, input().split()))\n",
    "maxSubArray(arr,len(arr))"
   ]
  }
 ],
 "metadata": {
  "colab": {
   "name": "Source.ipynb",
   "provenance": []
  },
  "kernelspec": {
   "display_name": "Python 3",
   "language": "python",
   "name": "python3"
  },
  "language_info": {
   "codemirror_mode": {
    "name": "ipython",
    "version": 3
   },
   "file_extension": ".py",
   "mimetype": "text/x-python",
   "name": "python",
   "nbconvert_exporter": "python",
   "pygments_lexer": "ipython3",
   "version": "3.7.7"
  }
 },
 "nbformat": 4,
 "nbformat_minor": 4
}
