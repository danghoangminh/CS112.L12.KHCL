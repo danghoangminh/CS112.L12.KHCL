{
 "cells": [
  {
   "cell_type": "markdown",
   "metadata": {
    "colab_type": "text",
    "id": "aWIN_PJE67by"
   },
   "source": [
    "# 1. Abstraction\n",
    "- Find the largest sum continuous sub-array in an n elements array\n",
    "\n",
    "# 2. Pattern recognization\n",
    "- Dynamic Programming\n",
    "\n",
    "# 3. Algorithm designed\n",
    "## 3.1. Input and Output:\n",
    "- Input:\n",
    "    - n (int): number of elements in array (0 < n < 10^6)\n",
    "    - arr (list): array contains n elements (from arr[0] to arr[n-1])\n",
    "- Output:\n",
    "    - start (int): location of first elements in sub-array\n",
    "    - end (int): location of last elements in sub-array\n",
    "    - max_sub_arr (int): sum of sub-array\n",
    "\n",
    "## 3.2. Variable:\n",
    "- max_ending_here (the sum of continuous sub-array was checked)\n",
    "- max_sub_arr (the largest sum continuous sub-array)\n",
    "- temp\n",
    "\n",
    "## 3.3. Pseudo code:\n",
    "```\n",
    "    Initialize:\n",
    "        max_ending_here = arr[0] (set value equals the first elements of the array)\n",
    "        max_sub_arr = float('-inf') (minus infinity)\n",
    "        start = end = temp = 0\n",
    "    Loop:\n",
    "        for i = 1 -> n:\n",
    "            max_ending_here += arr[i]\n",
    "            if max_ending_here > max_sub_arr:\n",
    "                set: max_sub_arr = max_ending_here\n",
    "                     end = i\n",
    "                     start = temp\n",
    "            if max_ending_here is smaller than 0:\n",
    "                set: max_ending_here = 0\n",
    "                     temp = i + 1 (drop the array was checking now, continuous checking next sub-array)\n",
    "    Output:\n",
    "        start, end, max_sub_arr\n",
    "```\n",
    "\n",
    "## 3.4. Dynamic Programming approach:\n",
    "- Time complexity: O(N), looping one time over an array.\n",
    "- Space complexity: O(N), array of length N to store values."
   ]
  },
  {
   "cell_type": "code",
   "execution_count": 1,
   "metadata": {
    "colab": {
     "base_uri": "https://localhost:8080/",
     "height": 101
    },
    "colab_type": "code",
    "id": "-4yRwDl567bz",
    "outputId": "bed7cb5a-3cde-43fc-96ef-f90539c80d43",
    "tags": []
   },
   "outputs": [
    {
     "name": "stdin",
     "output_type": "stream",
     "text": [
      " 16\n",
      " 2 -4 5 -8 4 -1 -1 1 1 1 -2 2 4 -6 9 -4\n"
     ]
    },
    {
     "name": "stdout",
     "output_type": "stream",
     "text": [
      "5 15 12\n"
     ]
    }
   ],
   "source": [
    "def maxSubArray(arr, size):\n",
    "    max_ending_here = arr[0]\n",
    "    max_sub_arr = float('-inf')\n",
    "    start = 0\n",
    "    end = 0\n",
    "    temp = 0\n",
    "\n",
    "    for i in range(1,size):\n",
    "        max_ending_here += arr[i]\n",
    "        \n",
    "        if max_ending_here > max_sub_arr:\n",
    "            max_sub_arr = max_ending_here\n",
    "            end = i\n",
    "            start = temp\n",
    "        \n",
    "        elif max_ending_here < 0:\n",
    "            max_ending_here = 0\n",
    "            temp = i + 1\n",
    "    \n",
    "    print(start + 1, end + 1, max_sub_arr)\n",
    "\n",
    "n = int(input())\n",
    "arr = list(map(int, input().split()))\n",
    "maxSubArray(arr,len(arr))"
   ]
  }
 ],
 "metadata": {
  "colab": {
   "name": "Source.ipynb",
   "provenance": []
  },
  "kernelspec": {
   "display_name": "Python 3",
   "language": "python",
   "name": "python3"
  },
  "language_info": {
   "codemirror_mode": {
    "name": "ipython",
    "version": 3
   },
   "file_extension": ".py",
   "mimetype": "text/x-python",
   "name": "python",
   "nbconvert_exporter": "python",
   "pygments_lexer": "ipython3",
   "version": "3.8.3"
  }
 },
 "nbformat": 4,
 "nbformat_minor": 4
}
