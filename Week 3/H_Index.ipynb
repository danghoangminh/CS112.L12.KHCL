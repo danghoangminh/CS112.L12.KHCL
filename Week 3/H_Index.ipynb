{
 "cells": [
  {
   "cell_type": "markdown",
   "metadata": {},
   "source": [
    "# Nhóm 2\n",
    "# H index\n",
    "Làm thế nào để đánh giá sự thành công của một nhà khoa học?  Dựa vào số bài báo được công bố hay dựa vào số lần một bài báo được trích dẫn tới ở công trình của những người khác? Cả hai tham số đó đều quan trọng.\n",
    "\n",
    "Một bài báo có điểm số trích dẫn là c nếu nó được trích dẫn tới c lần trong các công trình của những nhà khoa học khác. Một trong số các cách đánh giá sự thành công của một nhà khoa học là tính chỉ số ảnh hưởng H_Index dựa trên sự kết hợp giữa số lượng bài báo và chỉ số trích dẫn của các bài báo đó.\n",
    "\n",
    "Chỉ số H_Indexcủa một nhà khoa học bằng k lớn nhất nếu người đó có k bài báo, mỗi bài có điểm số trích dẫn không nhỏ hơn k. Ví dụ, một người có 10 bài báo, mỗi bài báo được trích dẫn không dưới 10 lần thì H_Index của người đó ít nhất là bằng 10.\n",
    "\n",
    "Một người có n bài báo, bài báo thứ i có điểm trích dẫn là ci, i = 1 ÷ n. Hãy xác định H_Index của người đó.\n",
    "\n",
    "**Dữ liệu**: Vào từ thiết bị nhập chuẩn:\n",
    "\n",
    "Dòng đầu tiên chứa một số nguyên n (1 ≤ n ≤ 5×105),\n",
    "\n",
    "Dòng thứ 2 chứa n số nguyên c1, c2, . . ., cn (0 ≤ ci ≤ 106, i = 1 ÷ n).\n",
    "\n",
    "**Kết quả**: Đưa ra thiết bị xuất chuẩn một số nguyên – H_Index tìm được.\n",
    "\n",
    "\n",
    "![title](H_index.png)\n",
    "\n",
    "\n",
    "| INPUT                                    | OUTPUT     |\n",
    "| :--------------------------------------- | :--------- |\n",
    "|5             |\t4       |\n",
    "|8 5 3 4 10    |            |"
   ]
  },
  {
   "cell_type": "markdown",
   "metadata": {},
   "source": [
    "# 1. Abstraction\n",
    "- Given the sequence of N elements, the index H_index = K if there are K elements, the value of each element is not less than K, find the largest H_index\n",
    "\n",
    "# 2 Decomposition\n",
    "- Get input into an array\n",
    "- Reverse sorting the array\n",
    "- Go to through the array from beginning to end, if the value of the element is greater than its position in the array, then increments the value of K by 1.\n",
    "\n",
    "# 3 Pattern recognization\n",
    "- Use input(), list() methods\n",
    "- Use sort() with its reverse attribute\n",
    "\n",
    "# 4. Algorithm designed\n",
    "## 4.1. Input and Output:\n",
    "- Input:\n",
    "    - The number of elements in the array (1 ≤ n ≤ 5×10^5)\n",
    "    - The array contains n elements (from arr[0] to arr[n-1])\n",
    "- Output:\n",
    "    - H_index value\n",
    "\n",
    "## 4.2. Variable:\n",
    "- n (int): the number of elements in the array (1 ≤ n ≤ 5×10^5)\n",
    "- arr (list): array contains n elements (from arr[0] to arr[n-1])\n",
    "- ans: H_index value\n",
    "\n",
    "## 4.3. Pseudo code:\n",
    "```\n",
    "    Initialize:\n",
    "        n  = length of input array; type of n: int\n",
    "        arr = list(map(int, input().split())) an int list from input array, separated by \" \"\n",
    "        Reverse sorting the array\n",
    "        ans  = 0\n",
    "                     \n",
    "    Loop:\n",
    "        i from 0 to n-1\n",
    "        if arr[i] <= (i + 1):\n",
    "            then: ans = i + 1\n",
    "        else:\n",
    "            end loop\n",
    "            \n",
    "    Output:\n",
    "        ans\n",
    "```\n",
    "\n",
    "## 4.4. Complexity:\n",
    "- Time complexity:\n",
    "    - O(n*log(n)): sorting the array\n",
    "    - O(n): looping one time over an array.\n",
    "    => O(n*log(n) + n) = O(n*log(n))\n",
    "- Space complexity:\n",
    "    - O(n), array of length N to store values."
   ]
  },
  {
   "cell_type": "code",
   "execution_count": 4,
   "metadata": {},
   "outputs": [
    {
     "name": "stdout",
     "output_type": "stream",
     "text": [
      "5\n",
      "8 5 3 4 10\n",
      "4\n"
     ]
    }
   ],
   "source": [
    "n  = int(input())\n",
    "a = list(map(int, input().split()))\n",
    "a.sort(reverse=True)\n",
    "ans  = 0\n",
    "\n",
    "for i in range(n):\n",
    "    if i + 1 <= a[i]:\n",
    "        ans = i + 1\n",
    "    else:\n",
    "        break\n",
    " \n",
    "print(ans)"
   ]
  },
  {
   "cell_type": "code",
   "execution_count": null,
   "metadata": {},
   "outputs": [],
   "source": []
  }
 ],
 "metadata": {
  "kernelspec": {
   "display_name": "Python 3",
   "language": "python",
   "name": "python3"
  },
  "language_info": {
   "codemirror_mode": {
    "name": "ipython",
    "version": 3
   },
   "file_extension": ".py",
   "mimetype": "text/x-python",
   "name": "python",
   "nbconvert_exporter": "python",
   "pygments_lexer": "ipython3",
   "version": "3.7.7"
  }
 },
 "nbformat": 4,
 "nbformat_minor": 4
}
